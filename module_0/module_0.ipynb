{
  "nbformat": 4,
  "nbformat_minor": 0,
  "metadata": {
    "colab": {
      "name": "module_0.ipynb",
      "provenance": []
    },
    "kernelspec": {
      "name": "python3",
      "display_name": "Python 3"
    }
  },
  "cells": [
    {
      "cell_type": "code",
      "metadata": {
        "id": "EzDmwtPXbeml",
        "outputId": "05115bee-2e1b-45b9-dc33-112bbb0c1558",
        "colab": {
          "base_uri": "https://localhost:8080/",
          "height": 54
        }
      },
      "source": [
        "import numpy as np\n",
        "\n",
        "def score_game(game_core):\n",
        "    '''Запускаем игру 1000 раз, чтобы узнать, как быстро игра угадывает число'''\n",
        "    count_ls = []\n",
        "    np.random.seed(1)  # фиксируем RANDOM SEED, чтобы ваш эксперимент был воспроизводим!\n",
        "    random_array = np.random.randint(1,101, size=(1000))\n",
        "    for number in random_array:\n",
        "        count_ls.append(game_core(number))\n",
        "    score = int(np.mean(count_ls))\n",
        "    print(f\"Ваш алгоритм угадывает число в среднем за {score} попыток\")\n",
        "    return(score)\n",
        "\n",
        "\n",
        "def game_core_v3(number):\n",
        "  ''' min_numder, max_number - диапазон возможных значений угадываемого числа\n",
        "  первоначально min_numder = 0, max_number. \n",
        "  Число угадываем методом деления пополам '''\n",
        "  \n",
        "  count = 1\n",
        "  min_number = 0\n",
        "  max_number = 100\n",
        "  predict = np.random.randint(1,101)\n",
        "  while number != predict:\n",
        "        count+=1\n",
        "        if number > predict:\n",
        "            min_numder = predict\n",
        "            predict = min_numder + max(int((max_number - predict)/2), 1)   # минимальный шаг 1          \n",
        "        elif number < predict:\n",
        "            max_number = predict            \n",
        "            predict = min_number + max(int((predict - min_number)/2), 1) # миниальный шаг 1\n",
        "\n",
        "  return(count) # выход из цикла, если угадали\n",
        "\n",
        "\n",
        "score_game(game_core_v3)    "
      ],
      "execution_count": 3,
      "outputs": [
        {
          "output_type": "stream",
          "text": [
            "Ваш алгоритм угадывает число в среднем за 9 попыток\n"
          ],
          "name": "stdout"
        },
        {
          "output_type": "execute_result",
          "data": {
            "text/plain": [
              "9"
            ]
          },
          "metadata": {
            "tags": []
          },
          "execution_count": 3
        }
      ]
    }
  ]
}